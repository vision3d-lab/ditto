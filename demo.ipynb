{
 "cells": [
  {
   "cell_type": "code",
   "execution_count": 1,
   "id": "77fbb278-3a18-4b0a-844e-a82e961052fe",
   "metadata": {},
   "outputs": [],
   "source": [
    "%load_ext lab_black"
   ]
  },
  {
   "cell_type": "code",
   "execution_count": 2,
   "id": "e72dd678-5c09-4715-8b12-22ad4e86baf5",
   "metadata": {},
   "outputs": [
    {
     "name": "stdout",
     "output_type": "stream",
     "text": [
      "Jupyter environment detected. Enabling Open3D WebVisualizer.\n",
      "[Open3D INFO] WebRTC GUI backend enabled.\n",
      "[Open3D INFO] WebRTCWindowSystem: HTTP handshake server disabled.\n"
     ]
    }
   ],
   "source": [
    "import random\n",
    "from pathlib import Path\n",
    "\n",
    "import numpy as np\n",
    "import open3d as o3d\n",
    "import torch as th\n",
    "import yaml\n",
    "from easydict import EasyDict\n",
    "from kitsu.utils import instantiate_from_config\n",
    "from kitsu.utils.vis3d import save_mesh\n",
    "\n",
    "from src.ditto.generate import Generator3D"
   ]
  },
  {
   "cell_type": "code",
   "execution_count": 3,
   "id": "ffac7062-c3b7-41a4-a568-b6e4e8b227b5",
   "metadata": {},
   "outputs": [
    {
     "data": {
      "text/plain": [
       "<torch.autograd.grad_mode.set_grad_enabled at 0x7f5ee90919c0>"
      ]
     },
     "execution_count": 3,
     "metadata": {},
     "output_type": "execute_result"
    }
   ],
   "source": [
    "th.set_grad_enabled(False)"
   ]
  },
  {
   "cell_type": "markdown",
   "id": "976fb6cf-7478-42e4-821b-c75651afbfe2",
   "metadata": {},
   "source": [
    "# ShapeNet Reconstruction"
   ]
  },
  {
   "cell_type": "markdown",
   "id": "aafea5c1-e1f3-4bac-bb1a-f7609377de0b",
   "metadata": {},
   "source": [
    "## Load Options"
   ]
  },
  {
   "cell_type": "code",
   "execution_count": 6,
   "id": "c365ff51-48d7-4df1-9385-227c2db667a3",
   "metadata": {},
   "outputs": [
    {
     "data": {
      "text/plain": [
       "PosixPath('results/ditto/shapenet/00/best.pth')"
      ]
     },
     "execution_count": 6,
     "metadata": {},
     "output_type": "execute_result"
    }
   ],
   "source": [
    "args_path = Path(\"results/ditto/shapenet/00/args.yaml\")\n",
    "ckpt_path = sorted(list(args_path.parent.glob(\"best*.pth\")))[-1]\n",
    "ckpt_path"
   ]
  },
  {
   "cell_type": "code",
   "execution_count": 7,
   "id": "1f16235a-a761-427e-bea3-b04de0ce020b",
   "metadata": {},
   "outputs": [],
   "source": [
    "with open(args_path) as f:\n",
    "    args = EasyDict(yaml.safe_load(f))"
   ]
  },
  {
   "cell_type": "markdown",
   "id": "ca500bf3-3ecd-430c-9a9a-c4caccc96b68",
   "metadata": {},
   "source": [
    "## Load Dataset"
   ]
  },
  {
   "cell_type": "code",
   "execution_count": 8,
   "id": "5bc2466e-33ba-4a06-942a-b0eb69a36f7f",
   "metadata": {},
   "outputs": [
    {
     "data": {
      "text/plain": [
       "{'target': 'src.ditto.dataset.dataset.load_dataloaders',\n",
       " 'params': {'batch_size': 32, 'num_workers': 8}}"
      ]
     },
     "execution_count": 8,
     "metadata": {},
     "output_type": "execute_result"
    }
   ],
   "source": [
    "args.dataset"
   ]
  },
  {
   "cell_type": "code",
   "execution_count": null,
   "id": "01f05999-778b-4822-acbe-7c85d3fe26af",
   "metadata": {},
   "outputs": [],
   "source": [
    "# If you already downloaded dataset\n",
    "# dl_train, dl_valid, dl_test = instantiate_from_config(args.dataset, cfg=args.cfg)\n",
    "\n",
    "# idx = random.randint(0, len(dl_test.dataset) - 1)\n",
    "# data = dl_test.collate_fn([dl_test.dataset[1000]])"
   ]
  },
  {
   "cell_type": "code",
   "execution_count": 9,
   "id": "390a9bb5-6693-4b50-a085-ec19cd4f1d5a",
   "metadata": {},
   "outputs": [],
   "source": [
    "# If you don't have dataset yet\n",
    "data = np.load(\"assets/demo_data.npz\", allow_pickle=True)\n",
    "data = {k: th.from_numpy(v) for k, v in data.items()}"
   ]
  },
  {
   "cell_type": "markdown",
   "id": "a6f37fe1-6068-4ee8-bd89-075696afd40b",
   "metadata": {},
   "source": [
    "## Load Model and Checkpoint"
   ]
  },
  {
   "cell_type": "code",
   "execution_count": 10,
   "id": "b300b08a-844f-4451-b24e-079ad33aea0e",
   "metadata": {},
   "outputs": [
    {
     "data": {
      "text/plain": [
       "{'target': 'src.ditto.ulto.ULTO',\n",
       " 'params': {'encoder': {'target': 'src.ditto.encoder.FKAConvEncoder2d',\n",
       "   'params': {'dim': 32,\n",
       "    'dim_in': 3,\n",
       "    'res': 64,\n",
       "    'padding': 0.1,\n",
       "    'n_blocks': 5}},\n",
       "  'unet': {'target': 'src.ditto.unet2d.UNet2d',\n",
       "   'params': {'dim': 32,\n",
       "    'dim_in': 32,\n",
       "    'dim_out': 32,\n",
       "    'depth': 4,\n",
       "    'act_fn': 'relu',\n",
       "    'padding': 0.1,\n",
       "    'window_size': 125,\n",
       "    'head_dim': 32,\n",
       "    'rodin_conv': True,\n",
       "    'n_kernels': 1,\n",
       "    'rotary_relative_pe': False}},\n",
       "  'decoder': {'target': 'src.ditto.decoder.ULTODecoder2d',\n",
       "   'params': {'dim': 32,\n",
       "    'dim_out': 1,\n",
       "    'n_blocks': 4,\n",
       "    'padding': 0.1,\n",
       "    'act_fn': 'relu',\n",
       "    'num_neighbors': 32,\n",
       "    'head_dim': 32}}}}"
      ]
     },
     "execution_count": 10,
     "metadata": {},
     "output_type": "execute_result"
    }
   ],
   "source": [
    "args.model"
   ]
  },
  {
   "cell_type": "code",
   "execution_count": 11,
   "id": "e5467222-6a14-41e2-8fa9-c016309d2ff6",
   "metadata": {},
   "outputs": [],
   "source": [
    "model = instantiate_from_config(args.model).cuda()"
   ]
  },
  {
   "cell_type": "code",
   "execution_count": 12,
   "id": "6a07ee6a-a360-4fd0-8e95-21b4657d3345",
   "metadata": {},
   "outputs": [
    {
     "data": {
      "text/plain": [
       "<All keys matched successfully>"
      ]
     },
     "execution_count": 12,
     "metadata": {},
     "output_type": "execute_result"
    }
   ],
   "source": [
    "ckpt = th.load(ckpt_path, map_location=\"cpu\")\n",
    "model.load_state_dict(ckpt[\"model\"])"
   ]
  },
  {
   "cell_type": "code",
   "execution_count": 13,
   "id": "9715ca11-088c-49b7-a3c9-7366947079a3",
   "metadata": {},
   "outputs": [],
   "source": [
    "# generator helps generating meshes from implicit model\n",
    "cfg = args.cfg\n",
    "generator = Generator3D(\n",
    "    model,\n",
    "    global_resolution=128,\n",
    "    device=\"cuda\",\n",
    "    threshold=cfg[\"test\"][\"threshold\"],\n",
    "    resolution0=cfg[\"generation\"][\"resolution_0\"],\n",
    "    upsampling_steps=cfg[\"generation\"][\"upsampling_steps\"],\n",
    "    sample=cfg[\"generation\"][\"use_sampling\"],\n",
    "    refinement_step=cfg[\"generation\"][\"refinement_step\"],\n",
    "    simplify_nfaces=cfg[\"generation\"][\"simplify_nfaces\"],\n",
    "    input_type=cfg[\"data\"][\"input_type\"],\n",
    "    padding=cfg[\"data\"][\"padding\"],\n",
    "    vol_info=None,\n",
    "    vol_bound=None,\n",
    ")"
   ]
  },
  {
   "cell_type": "markdown",
   "id": "615abd65-5191-42c2-a603-639adf9b1f01",
   "metadata": {},
   "source": [
    "## Reconstruct Meshes"
   ]
  },
  {
   "cell_type": "code",
   "execution_count": 15,
   "id": "d5fdd129-4437-41ed-a685-3b5ac652bc9d",
   "metadata": {},
   "outputs": [],
   "source": [
    "mesh, stat = generator.generate_mesh(data)"
   ]
  },
  {
   "cell_type": "code",
   "execution_count": 16,
   "id": "6c4d5413-6fdd-429c-8c47-f9708d1198b0",
   "metadata": {},
   "outputs": [
    {
     "data": {
      "text/plain": [
       "True"
      ]
     },
     "execution_count": 16,
     "metadata": {},
     "output_type": "execute_result"
    }
   ],
   "source": [
    "o3d.io.write_triangle_mesh(\"test.obj\", mesh)"
   ]
  },
  {
   "cell_type": "code",
   "execution_count": null,
   "id": "e7042742-8255-4b2e-9da8-ebdcfcac496c",
   "metadata": {},
   "outputs": [],
   "source": []
  },
  {
   "cell_type": "markdown",
   "id": "45061472-e17b-4e6b-bb59-7741ca249f9d",
   "metadata": {},
   "source": [
    "## Load Options"
   ]
  },
  {
   "cell_type": "code",
   "execution_count": 5,
   "id": "dc3cd5fa-3005-45a5-a4f4-64e8bbe7baa0",
   "metadata": {},
   "outputs": [
    {
     "data": {
      "text/plain": [
       "PosixPath('results/ditto/shapenet/00/best.pth')"
      ]
     },
     "execution_count": 5,
     "metadata": {},
     "output_type": "execute_result"
    }
   ],
   "source": [
    "args_path = Path(\"results/ditto/shapenet/00/args.yaml\")\n",
    "ckpt_path = sorted(list(args_path.parent.glob(\"best*.pth\")))[-1]\n",
    "ckpt_path"
   ]
  },
  {
   "cell_type": "code",
   "execution_count": 6,
   "id": "90342531-9c36-47a8-91a9-0c94965bd2b6",
   "metadata": {},
   "outputs": [],
   "source": [
    "with open(args_path) as f:\n",
    "    args = EasyDict(yaml.safe_load(f))"
   ]
  },
  {
   "cell_type": "markdown",
   "id": "fbd9e697-7484-49f3-98c5-0e12842e6133",
   "metadata": {},
   "source": [
    "## Load Dataset"
   ]
  },
  {
   "cell_type": "code",
   "execution_count": 7,
   "id": "6a9ad0a7-e377-4ef3-8dff-36d399b9c5a2",
   "metadata": {},
   "outputs": [
    {
     "data": {
      "text/plain": [
       "{'target': 'src.ditto.dataset.dataset.load_dataloaders',\n",
       " 'params': {'batch_size': 32, 'num_workers': 8}}"
      ]
     },
     "execution_count": 7,
     "metadata": {},
     "output_type": "execute_result"
    }
   ],
   "source": [
    "args.dataset"
   ]
  },
  {
   "cell_type": "code",
   "execution_count": 8,
   "id": "4e65954b-8252-4067-b940-34b856d28474",
   "metadata": {},
   "outputs": [
    {
     "data": {
      "text/plain": [
       "(30661, 4371, 8751)"
      ]
     },
     "execution_count": 8,
     "metadata": {},
     "output_type": "execute_result"
    }
   ],
   "source": [
    "dl_train, dl_valid, dl_test = instantiate_from_config(args.dataset, cfg=args.cfg)\n",
    "len(dl_train.dataset), len(dl_valid.dataset), len(dl_test.dataset)"
   ]
  },
  {
   "cell_type": "markdown",
   "id": "e9b5ad4e-18e5-4142-a2c0-440e56f51164",
   "metadata": {},
   "source": [
    "## Load Model and Checkpoint"
   ]
  },
  {
   "cell_type": "code",
   "execution_count": 9,
   "id": "76070a88-a5ea-4c1e-80ae-73953993689e",
   "metadata": {},
   "outputs": [
    {
     "data": {
      "text/plain": [
       "{'target': 'src.ditto.ulto.ULTO',\n",
       " 'params': {'encoder': {'target': 'src.ditto.encoder.FKAConvEncoder2d',\n",
       "   'params': {'dim': 32,\n",
       "    'dim_in': 3,\n",
       "    'res': 64,\n",
       "    'padding': 0.1,\n",
       "    'n_blocks': 5}},\n",
       "  'unet': {'target': 'src.ditto.unet2d.UNet2d',\n",
       "   'params': {'dim': 32,\n",
       "    'dim_in': 32,\n",
       "    'dim_out': 32,\n",
       "    'depth': 4,\n",
       "    'act_fn': 'relu',\n",
       "    'padding': 0.1,\n",
       "    'window_size': 125,\n",
       "    'head_dim': 32,\n",
       "    'rodin_conv': True,\n",
       "    'n_kernels': 1,\n",
       "    'rotary_relative_pe': False}},\n",
       "  'decoder': {'target': 'src.ditto.decoder.ULTODecoder2d',\n",
       "   'params': {'dim': 32,\n",
       "    'dim_out': 1,\n",
       "    'n_blocks': 4,\n",
       "    'padding': 0.1,\n",
       "    'act_fn': 'relu',\n",
       "    'num_neighbors': 32,\n",
       "    'head_dim': 32}}}}"
      ]
     },
     "execution_count": 9,
     "metadata": {},
     "output_type": "execute_result"
    }
   ],
   "source": [
    "args.model"
   ]
  },
  {
   "cell_type": "code",
   "execution_count": 10,
   "id": "723c2de7-6369-4e47-8114-e6f4e050eaed",
   "metadata": {},
   "outputs": [],
   "source": [
    "model = instantiate_from_config(args.model).cuda()"
   ]
  },
  {
   "cell_type": "code",
   "execution_count": 11,
   "id": "f5f06611-b4bb-49e2-a381-0f17a757ead3",
   "metadata": {},
   "outputs": [
    {
     "data": {
      "text/plain": [
       "<All keys matched successfully>"
      ]
     },
     "execution_count": 11,
     "metadata": {},
     "output_type": "execute_result"
    }
   ],
   "source": [
    "ckpt = th.load(ckpt_path, map_location=\"cpu\")\n",
    "model.load_state_dict(ckpt[\"model\"])"
   ]
  },
  {
   "cell_type": "code",
   "execution_count": 12,
   "id": "2bd9ae6d-36d2-45dd-a698-ca073e92f561",
   "metadata": {},
   "outputs": [],
   "source": [
    "# generator helps generating meshes from implicit model\n",
    "cfg = args.cfg\n",
    "generator = Generator3D(\n",
    "    model,\n",
    "    global_resolution=128,\n",
    "    device=\"cuda\",\n",
    "    threshold=cfg[\"test\"][\"threshold\"],\n",
    "    resolution0=cfg[\"generation\"][\"resolution_0\"],\n",
    "    upsampling_steps=cfg[\"generation\"][\"upsampling_steps\"],\n",
    "    sample=cfg[\"generation\"][\"use_sampling\"],\n",
    "    refinement_step=cfg[\"generation\"][\"refinement_step\"],\n",
    "    simplify_nfaces=cfg[\"generation\"][\"simplify_nfaces\"],\n",
    "    input_type=cfg[\"data\"][\"input_type\"],\n",
    "    padding=cfg[\"data\"][\"padding\"],\n",
    "    vol_info=None,\n",
    "    vol_bound=None,\n",
    ")"
   ]
  },
  {
   "cell_type": "markdown",
   "id": "8cd58131-b401-4644-bdb4-0cb100f54d97",
   "metadata": {},
   "source": [
    "## Reconstruct Meshes"
   ]
  },
  {
   "cell_type": "code",
   "execution_count": 17,
   "id": "22b0eec3-9f55-4a5d-a73b-8702f2271f3a",
   "metadata": {},
   "outputs": [],
   "source": [
    "idx = random.randint(0, len(dl_test.dataset) - 1)\n",
    "data = dl_test.collate_fn([dl_test.dataset[1000]])"
   ]
  },
  {
   "cell_type": "code",
   "execution_count": 14,
   "id": "786f4dbd-6887-4afe-b94d-934d96bdd0f2",
   "metadata": {},
   "outputs": [],
   "source": [
    "mesh, stat = generator.generate_mesh(data)"
   ]
  },
  {
   "cell_type": "code",
   "execution_count": 15,
   "id": "20e4ed02-7389-4327-873d-815331b3d4bd",
   "metadata": {},
   "outputs": [
    {
     "data": {
      "text/plain": [
       "True"
      ]
     },
     "execution_count": 15,
     "metadata": {},
     "output_type": "execute_result"
    }
   ],
   "source": [
    "o3d.io.write_triangle_mesh(\"test.obj\", mesh)"
   ]
  },
  {
   "cell_type": "code",
   "execution_count": null,
   "id": "b6245209-c71d-4568-880e-ee5de6774993",
   "metadata": {},
   "outputs": [],
   "source": [
    "# You can now visualize the output mesh 'test.obj' using rendering tools like MeshLab."
   ]
  },
  {
   "cell_type": "code",
   "execution_count": 18,
   "id": "25bf1d98-d3ed-4176-8774-2bb16538c8ae",
   "metadata": {
    "tags": []
   },
   "outputs": [
    {
     "data": {
      "text/plain": [
       "{'points': tensor([[[-0.4934, -0.4250,  0.2910],\n",
       "          [-0.4797, -0.0347, -0.4546],\n",
       "          [-0.5277, -0.2440, -0.1853],\n",
       "          ...,\n",
       "          [ 0.0437,  0.4869, -0.3456],\n",
       "          [ 0.2282, -0.3981,  0.1256],\n",
       "          [ 0.1138,  0.0566,  0.1275]]]),\n",
       " 'points.occ': tensor([[0., 0., 0.,  ..., 0., 0., 0.]]),\n",
       " 'points.sub_points_idx': tensor([[58778, 61155, 20685,  ..., 28697, 70745, 60644]]),\n",
       " 'points_iou': tensor([[[ 0.4318, -0.5246,  0.0220],\n",
       "          [-0.3407,  0.5053,  0.0417],\n",
       "          [-0.3310, -0.4791,  0.2901],\n",
       "          ...,\n",
       "          [-0.4737, -0.2209,  0.0633],\n",
       "          [-0.2053, -0.5097, -0.1222],\n",
       "          [ 0.3800,  0.3899, -0.1080]]]),\n",
       " 'points_iou.occ': tensor([[0., 0., 0.,  ..., 0., 0., 0.]]),\n",
       " 'inputs': tensor([[[ 0.1418,  0.2025,  0.3714],\n",
       "          [ 0.1640, -0.2871,  0.0832],\n",
       "          [ 0.1205, -0.2376, -0.4999],\n",
       "          ...,\n",
       "          [ 0.2784, -0.0760,  0.1367],\n",
       "          [ 0.0398, -0.0125,  0.3809],\n",
       "          [-0.0430, -0.0058, -0.2017]]]),\n",
       " 'inputs.normals': tensor([[[-5.7715e-01, -5.7715e-01, -5.7715e-01],\n",
       "          [-6.1182e-01, -7.9102e-01,  5.1346e-03],\n",
       "          [-3.0609e-02, -2.0837e-01, -9.7754e-01],\n",
       "          ...,\n",
       "          [ 9.9951e-01, -1.9653e-02,  1.6373e-02],\n",
       "          [-2.2522e-02,  9.9951e-01,  2.1896e-03],\n",
       "          [ 1.5343e-02,  1.0000e+00,  7.3814e-04]]]),\n",
       " 'idx': tensor([1000]),\n",
       " 'pointcloud_chamfer': tensor([[[-0.2175, -0.0088,  0.3389],\n",
       "          [-0.3152,  0.3027, -0.4949],\n",
       "          [ 0.2634,  0.2698, -0.0357],\n",
       "          ...,\n",
       "          [ 0.2566,  0.2527, -0.0938],\n",
       "          [-0.1333,  0.2871, -0.5010],\n",
       "          [-0.2622,  0.2981, -0.0167]]]),\n",
       " 'pointcloud_chamfer.normals': tensor([[[-3.8055e-02,  9.9707e-01,  6.7932e-02],\n",
       "          [-9.2529e-01, -5.6000e-02, -3.7549e-01],\n",
       "          [ 9.9951e-01,  2.0020e-02, -2.1851e-02],\n",
       "          ...,\n",
       "          [ 9.7217e-01, -4.2648e-03, -2.3401e-01],\n",
       "          [-9.4757e-03,  2.0737e-02, -9.9951e-01],\n",
       "          [ 9.9854e-01, -5.2856e-02,  8.3065e-04]]])}"
      ]
     },
     "execution_count": 18,
     "metadata": {},
     "output_type": "execute_result"
    }
   ],
   "source": [
    "data"
   ]
  },
  {
   "cell_type": "code",
   "execution_count": 21,
   "id": "b426d8d1-48cb-4ba9-983a-061a834bfeb4",
   "metadata": {},
   "outputs": [],
   "source": [
    "data_np = {k: v.numpy() for k, v in data.items()}"
   ]
  },
  {
   "cell_type": "code",
   "execution_count": 22,
   "id": "b3912f49-28a9-4bd2-abe5-02c9336421f9",
   "metadata": {},
   "outputs": [],
   "source": [
    "np.savez_compressed(\"assets/demo_data.npz\", **data_np)"
   ]
  },
  {
   "cell_type": "code",
   "execution_count": null,
   "id": "9594a9f2-ba1a-4d7c-99ce-620b70270534",
   "metadata": {},
   "outputs": [],
   "source": []
  }
 ],
 "metadata": {
  "kernelspec": {
   "display_name": "Python 3 (ipykernel)",
   "language": "python",
   "name": "python3"
  },
  "language_info": {
   "codemirror_mode": {
    "name": "ipython",
    "version": 3
   },
   "file_extension": ".py",
   "mimetype": "text/x-python",
   "name": "python",
   "nbconvert_exporter": "python",
   "pygments_lexer": "ipython3",
   "version": "3.10.14"
  }
 },
 "nbformat": 4,
 "nbformat_minor": 5
}
